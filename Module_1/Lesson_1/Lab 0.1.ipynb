{
 "cells": [
  {
   "cell_type": "code",
   "execution_count": 1,
   "id": "1312bc14-90a4-4bb9-8cd4-472a7268f402",
   "metadata": {},
   "outputs": [
    {
     "data": {
      "text/plain": [
       "2"
      ]
     },
     "execution_count": 1,
     "metadata": {},
     "output_type": "execute_result"
    }
   ],
   "source": [
    "''' Bài tập 1 - Viết và thực thi code\n",
    "1. Trong notebook trống mới của bạn (từ Bài tập 1), hãy nhấp vào trong cell màu xám và viết một số code, như 1 + 1. \n",
    "2. Thực thi code bằng cách nhấp vào nút Play trong menu phía trên notebook hoặc bằng cách nhấn Shift+Enter trên notebook của bạn. \n",
    "3. Bạn sẽ thấy trong đầu ra, 2. \n",
    "4. Thử thực thi code khác (thử các phép toán đơn giản).\n",
    "'''\n",
    "1 + 1"
   ]
  },
  {
   "cell_type": "code",
   "execution_count": 2,
   "id": "987be506-0cf7-402c-b19f-c40a98013ec7",
   "metadata": {},
   "outputs": [
    {
     "data": {
      "text/plain": [
       "4.0"
      ]
     },
     "execution_count": 2,
     "metadata": {},
     "output_type": "execute_result"
    }
   ],
   "source": [
    "8/2"
   ]
  },
  {
   "cell_type": "code",
   "execution_count": 4,
   "id": "6574efb8-f5ec-433b-948c-fbb6e5d1a988",
   "metadata": {},
   "outputs": [
    {
     "data": {
      "text/plain": [
       "3"
      ]
     },
     "execution_count": 4,
     "metadata": {},
     "output_type": "execute_result"
    }
   ],
   "source": [
    "53%25"
   ]
  },
  {
   "cell_type": "code",
   "execution_count": null,
   "id": "789cfd9c-0d43-4326-b044-c788b70831ee",
   "metadata": {},
   "outputs": [],
   "source": []
  },
  {
   "cell_type": "code",
   "execution_count": null,
   "id": "45d1fe6e-c7fa-4354-8ae6-5aadd8bd4675",
   "metadata": {},
   "outputs": [],
   "source": [
    "''' Bài tập  2 - Tạo một cell mới\n",
    "1. Trong notebook Jupyter của bạn, trước tiên hãy nhấp vào bất kỳ cell nào hiện có để chọn cell.\n",
    "2. Từ menu, nhấp vào Insert, sau đó Insert Cell Above hoặc Insert Cell Below. \n",
    "3. Tuyệt vời! Bây giờ bạn đã biết cách chèn các cell mới trong Jupyter Notebook. \n",
    "'''"
   ]
  },
  {
   "cell_type": "code",
   "execution_count": null,
   "id": "0649758c-fd3e-4c5d-8221-189280700851",
   "metadata": {},
   "outputs": [],
   "source": []
  },
  {
   "cell_type": "code",
   "execution_count": null,
   "id": "65548e94-1d66-4ffd-8711-631a73ed9739",
   "metadata": {},
   "outputs": [],
   "source": [
    "''' Bài tập  3 - Tạo cell Markdown và thêm văn bản\n",
    "Trong notebook của bạn, hãy bấm vào bất kỳ cell code nào và trong menu thả xuống ở menu bên trên, hãy thay đổi loại cell từ Code thành Markdown. Như bạn nhận thấy, bạn không thể tạo cell Markdown mà không tạo cell Code trước và chuyển đổi chúng từ Code thành Markdown.\n",
    "Trong cell Markdown, hãy viết một số văn bản, ví dụ My Title.\n",
    "Để hiển thị văn bản Markdown, hãy đảm bảo rằng cell được chọn (bằng cách nhấp vào bên trong cell đó) và nhấn Play trong menu hoặc Shift + Enter. Cell Markdown của bạn bây giờ sẽ được hiển thị!\n",
    "Để chỉnh sửa ô Markdown của bạn, hãy bấm đúp vào bất kỳ đâu trong cell. Lưu ý rằng bạn có thể sử dụng phím tắt: [m] - Chuyển Cell thành Markdown \n",
    "'''"
   ]
  },
  {
   "cell_type": "markdown",
   "id": "085475db-2a11-42ae-84aa-6c0cfb3f999d",
   "metadata": {},
   "source": [
    "My Title"
   ]
  },
  {
   "cell_type": "code",
   "execution_count": null,
   "id": "6d51d1f8-1c0f-4a22-9b7e-8a5594402035",
   "metadata": {},
   "outputs": [],
   "source": [
    "''' Bài tập  4 - Đổi tên Notebook \n",
    "1. Trong danh sách notebook ở bảng điều khiển bên trái, nhấp vào File ở trên cùng để mở rộng danh sách tùy chọn. \n",
    "2. Nhấp vào Rename Notebook... để đổi tên mới cho notebook ví dụ My_Notebook.ipynb. \n",
    "'''\n",
    "# Đã đổi tên ok"
   ]
  },
  {
   "cell_type": "code",
   "execution_count": null,
   "id": "408139d2-26e8-4644-b3eb-feac08608183",
   "metadata": {},
   "outputs": [],
   "source": [
    "''' Bài tập  5 - Lưu và tải xuống Jupyter Notebook vào máy tính của bạn \n",
    "Đôi khi bạn có thể muốn tải notebook về máy tính của mình.\n",
    "●\tĐể lưu, nhấp vào nút Save Notebook hoặc nút Save Notebook as trong menu File. \n",
    "●\tĐể tải xuống notebook, nhấp vào File và cuộn xuống Download để tải xuống notebook. Bạn cũng có thể nhấp chuột phải vào notebook trong file browser và nhấp vào Download \n",
    "'''\n",
    "# Đã lưu và tải file về máy tính ok"
   ]
  }
 ],
 "metadata": {
  "kernelspec": {
   "display_name": "Python 3 (ipykernel)",
   "language": "python",
   "name": "python3"
  },
  "language_info": {
   "codemirror_mode": {
    "name": "ipython",
    "version": 3
   },
   "file_extension": ".py",
   "mimetype": "text/x-python",
   "name": "python",
   "nbconvert_exporter": "python",
   "pygments_lexer": "ipython3",
   "version": "3.10.14"
  }
 },
 "nbformat": 4,
 "nbformat_minor": 5
}
